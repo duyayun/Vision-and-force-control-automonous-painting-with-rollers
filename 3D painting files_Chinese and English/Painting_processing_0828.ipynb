{
 "cells": [
  {
   "cell_type": "code",
   "execution_count": 104,
   "metadata": {},
   "outputs": [],
   "source": [
    "import pyrealsense2 as rs\n",
    "import time\n",
    "import numpy as np\n",
    "import random\n",
    "import math\n",
    "import open3d as o3d\n",
    "import pcl\n",
    "import pptk\n",
    "import matplotlib.pyplot as plt\n",
    "from sklearn.cluster import KMeans"
   ]
  },
  {
   "cell_type": "code",
   "execution_count": 105,
   "metadata": {},
   "outputs": [
    {
     "data": {
      "text/plain": [
       "True"
      ]
     },
     "execution_count": 105,
     "metadata": {},
     "output_type": "execute_result"
    }
   ],
   "source": [
    "# Load original ply file and transfer to pcd file\n",
    "ply = o3d.io.read_point_cloud(\"test0902_3.ply\")\n",
    "o3d.io.write_point_cloud(\"test0902.pcd\", ply)"
   ]
  },
  {
   "cell_type": "code",
   "execution_count": 106,
   "metadata": {},
   "outputs": [
    {
     "data": {
      "text/plain": [
       "0"
      ]
     },
     "execution_count": 106,
     "metadata": {},
     "output_type": "execute_result"
    }
   ],
   "source": [
    "# Apply MLS smoothing methods to the point cloud\n",
    "# Notice: It seems that the polynomial order doesn't affect the results. It's weird.\n",
    "\n",
    "p = pcl.PointCloud_PointXYZRGB()\n",
    "p.from_file(\"test0902.pcd\") \n",
    "\n",
    "#Build a pcl.MovingLeastSquares object \n",
    "mls = p.make_moving_least_squares()\n",
    "\n",
    "#Set a polynomial to approximate the surface and normal\n",
    "mls.set_polynomial_fit(True)\n",
    "\n",
    "#Set polynomial order \n",
    "mls.set_polynomial_order(2)\n",
    "\n",
    "#Set the sphere radius\n",
    "mls.set_search_radius(0.015)\n",
    "\n",
    "#Apply smoothing and output file\n",
    "mls.process().to_file(\"test0902_sm.pcd\")"
   ]
  },
  {
   "cell_type": "code",
   "execution_count": 107,
   "metadata": {},
   "outputs": [
    {
     "data": {
      "text/plain": [
       "True"
      ]
     },
     "execution_count": 107,
     "metadata": {},
     "output_type": "execute_result"
    }
   ],
   "source": [
    "# Load the file after the smoothing\n",
    "pcd_sm = o3d.io.read_point_cloud(\"test0902_sm.pcd\")\n",
    "\n",
    "\n",
    "# Voxel downsampling\n",
    "# print(\"Downsample the point cloud with a voxel of 0.001\")\n",
    "downpcd = o3d.geometry.voxel_down_sample(pcd_sm, voxel_size=0.001)\n",
    "# o3d.visualization.draw_geometries([downpcd])\n",
    "    \n",
    "# Vertex normal estimation\n",
    "\n",
    "# print(\"Recompute the normal of the downsampled point cloud\")\n",
    "o3d.geometry.estimate_normals(\n",
    "    downpcd,\n",
    "    search_param=o3d.geometry.KDTreeSearchParamHybrid(radius=0.05,\n",
    "                                                          max_nn=30))\n",
    "# o3d.visualization.draw_geometries([downpcd])\n",
    "o3d.geometry.orient_normals_to_align_with_direction(downpcd)\n",
    "# o3d.io.write_point_cloud(\"test0730_ne.pcd\", downpcd)\n",
    "\n",
    "# o3d.visualization.draw_geometries([downpcd])\n",
    "    \n",
    "# print(\"Print the normal vectors of the first 100 points\")\n",
    "# print(np.asarray(downpcd.normals)[:100, :])"
   ]
  },
  {
   "cell_type": "code",
   "execution_count": 108,
   "metadata": {},
   "outputs": [
    {
     "data": {
      "text/plain": [
       "geometry::PointCloud with 295157 points."
      ]
     },
     "execution_count": 108,
     "metadata": {},
     "output_type": "execute_result"
    }
   ],
   "source": [
    "# NOTICE: When we want to transfer point in point cloud [x, y, z] into robot base, \n",
    "# we need to reconstruct a point as [-z, -x, y]\n",
    "# example: we have point [1, 2, 3] in point cloud, we need point [-3, -1, 2] to transfer into robot base\n",
    "\n",
    "pcd = downpcd\n",
    "\n",
    "rot1 = np.array([[0, 0, -1, 0],[-1, 0, 0, 0],[0, 1, 0, 0],[0, 0, 0, 1]])\n",
    "\n",
    "qw = 0.747674083551\n",
    "qx = 0.124738770189 \n",
    "qy = 0.18702112\n",
    "qz = -0.624857427476\n",
    "tx = 0.674651134177 \n",
    "ty = 0.767562821092\n",
    "tz =  0.877107907672\n",
    "r11 = 1-2*qy**2-2*qz**2\n",
    "r12 = 2*qx*qy-2*qz*qw\n",
    "r13 = 2*qx*qz+2*qy*qw\n",
    "r21 = 2*qx*qy+2*qz*qw\n",
    "r22 = 1-2*qx**2-2*qz**2\n",
    "r23 = 2*qy*qz-2*qx*qw\n",
    "r31 = 2*qx*qz-2*qy*qw\n",
    "r32 = 2*qy*qz+2*qx*qw\n",
    "r33 = 1-2*qx**2-2*qy**2\n",
    "RotMat =  [[r11, r12, r13, tx], [r21, r22, r23, ty], [r31, r32, r33, tz], [0, 0, 0, 1]]\n",
    "rot2 = np.asarray(RotMat)\n",
    "\n",
    "pcd.transform(rot1)\n",
    "pcd.transform(rot2)"
   ]
  },
  {
   "cell_type": "code",
   "execution_count": 111,
   "metadata": {},
   "outputs": [],
   "source": [
    "# Add limits to filter out the background\n",
    "\n",
    "# Filter noise data\n",
    "\n",
    "pcd, ind = o3d.geometry.statistical_outlier_removal(pcd, nb_neighbors=50, std_ratio=0.01)\n",
    "pcd, ind = o3d.geometry.radius_outlier_removal(pcd, nb_points=50, radius=0.02)\n",
    "\n",
    "pts = np.asarray(pcd.points).tolist()\n",
    "norms = np.asarray(pcd.normals).tolist()\n",
    "rgbs = np.asarray(pcd.colors).tolist()\n",
    "rgb_lim = 255 / 255.0\n",
    "len_offset = 0.476\n",
    "\n",
    "\n",
    "x_min = 0\n",
    "x_max = 1\n",
    "y_min = -0.5\n",
    "y_max = 1\n",
    "z_min = 0.38\n",
    "# x_min = 0.62518806 - 0.3\n",
    "# x_max = 0.62518806 + 0.3\n",
    "# y_min = -0.17314086 - 0.3\n",
    "# y_max = -0.17314086 + 0.3\n",
    "# z_min = 0.33917976 + 0.02\n",
    "\n",
    "p_3d = []\n",
    "p_norm = []\n",
    "p_inv = []\n",
    "\n",
    "for i in range(len(pts)):\n",
    "    x_p = pts[i][0]\n",
    "    y_p = pts[i][1]\n",
    "    z_p = pts[i][2]\n",
    "    r_p = rgbs[i][0]\n",
    "    g_p = rgbs[i][1]\n",
    "    b_p = rgbs[i][2]\n",
    "\n",
    "    if (x_p > x_max or x_p < x_min or y_p > y_max or y_p < y_min or z_p < z_min \n",
    "                 or(r_p > rgb_lim and g_p > rgb_lim and b_p > rgb_lim)):\n",
    "        p_inv.append(pts[i])\n",
    "    else:\n",
    "        p_3d.append(pts[i])\n",
    "        p_norm.append(norms[i])\n",
    "\n",
    "# print(p_3d[:10])\n",
    "# print(p_norm[:10])\n"
   ]
  },
  {
   "cell_type": "code",
   "execution_count": 112,
   "metadata": {},
   "outputs": [],
   "source": [
    "v = pptk.viewer(np.asarray(p_3d)) \n",
    "v.set(point_size=0.001)"
   ]
  },
  {
   "cell_type": "code",
   "execution_count": 23,
   "metadata": {},
   "outputs": [],
   "source": [
    "# 3D viewer for processed points\n",
    "\n",
    "rgb_3d = [[89 / 255.0, 159 / 255.0, 229 / 255.0, 0.3] for i in range(len(p_3d))]\n",
    "l = len(p_3d)\n",
    "scalars = np.arange(l)\n",
    "v = pptk.viewer(np.asarray(p_3d), scalars)\n",
    "\n",
    "v.attributes(rgb_3d)\n",
    "# v.color_map(rgb_3d)\n",
    "# v.color_map('cyan', scale=[0, 1])\n",
    "v.set(point_size=0.002)\n",
    "v.set(bg_color = [1, 1, 1, 0.3])\n",
    "v.set(floor_color = [1, 1, 1, 0.3])\n",
    "# v.set(show_grid = 0)"
   ]
  },
  {
   "cell_type": "code",
   "execution_count": 97,
   "metadata": {},
   "outputs": [],
   "source": [
    "v.capture('cubic_1.png')"
   ]
  },
  {
   "cell_type": "code",
   "execution_count": 91,
   "metadata": {},
   "outputs": [],
   "source": [
    "# 3D viewer for processed norms\n",
    "vn = pptk.viewer(np.asarray(p_norm)) \n",
    "vn.set(point_size=0.01)"
   ]
  },
  {
   "cell_type": "code",
   "execution_count": 113,
   "metadata": {},
   "outputs": [],
   "source": [
    "def calculate_wcss(norms, min_n, max_n):\n",
    "    \n",
    "    wcss = []\n",
    "    for n in range(min_n, max_n + 1):\n",
    "        kmeans = KMeans(n_clusters=n, init='k-means++', random_state=167)\n",
    "        kmeans.fit(norms)\n",
    "        wcss.append(kmeans.inertia_)\n",
    "    \n",
    "    K = range(min_n, max_n + 1)\n",
    "    plt.plot(K, wcss, 'bx-')\n",
    "    plt.xlabel('k')\n",
    "    plt.ylabel('Sum_of_squared_distances')\n",
    "    plt.title('Elbow Method For Optimal k')\n",
    "    plt.savefig('elbow_k.png')\n",
    "    plt.show()\n",
    "    \n",
    "    return wcss\n",
    "\n",
    "def optimal_num_of_clus(wcss, min_n, max_n):\n",
    "    \n",
    "    x1, y1 = min_n, wcss[0]\n",
    "    x2, y2 = max_n, wcss[len(wcss) - 1]\n",
    "    \n",
    "    distances = []\n",
    "    \n",
    "    for i in range(len(wcss)):\n",
    "        x0 = i + min_n\n",
    "        y0 = wcss[i]\n",
    "        \n",
    "        segment = abs((y2 - y1) * x0 - (x2 - x1) * y0 + x2 * y1 - y2 * x1)\n",
    "        norm = math.sqrt((y2 - y1)**2 + (x2 - x1)**2)\n",
    "        distances.append(segment / norm)\n",
    "    \n",
    "    return distances.index(max(distances)) + min_n\n",
    "\n",
    "def optimal_num_clus(norms, min_n, max_n):\n",
    "    \n",
    "    wcss = calculate_wcss(norms, min_n, max_n)\n",
    "    \n",
    "    return optimal_num_of_clus(wcss, min_n, max_n)"
   ]
  },
  {
   "cell_type": "code",
   "execution_count": 114,
   "metadata": {},
   "outputs": [],
   "source": [
    "# print optimal_num_clus(p_norm, 1, 12)"
   ]
  },
  {
   "cell_type": "code",
   "execution_count": 115,
   "metadata": {
    "scrolled": false
   },
   "outputs": [
    {
     "data": {
      "image/png": "[encoded data removed]",
      "text/plain": [
       "<Figure size 432x288 with 1 Axes>"
      ]
     },
     "metadata": {
      "needs_background": "light"
     },
     "output_type": "display_data"
    }
   ],
   "source": [
    "# K-means clustering\n",
    "n_min = 1    # minimum num of cluster\n",
    "n_max = 12   # maximum num of cluster\n",
    "num_clus = optimal_num_clus(p_norm, n_min, n_max)\n",
    "sample_len = len(p_norm)\n",
    "kmeans = KMeans(n_clusters=num_clus, init='k-means++', random_state=167)\n",
    "# f_pred is prefictor\n",
    "f_pred = kmeans.fit(p_norm)"
   ]
  },
  {
   "cell_type": "code",
   "execution_count": 116,
   "metadata": {},
   "outputs": [],
   "source": [
    "# label for each normal. \n",
    "# Example: labels[0] = 2 means p_norms[0] belongs to group 2\n",
    "# labels[9] = 0 means p_norms[9] belongs to group 0\n",
    "# Then group normals with same label\n",
    "labels = f_pred.labels_\n",
    "norm_groups = [[] for i in range(num_clus)]\n",
    "for i in range(sample_len):\n",
    "    l = labels[i]\n",
    "    norm_groups[l].append(i)\n",
    "    \n",
    "# clus_centers are the centers of each group\n",
    "clus_centers = f_pred.cluster_centers_"
   ]
  },
  {
   "cell_type": "code",
   "execution_count": 117,
   "metadata": {},
   "outputs": [
    {
     "data": {
      "text/plain": [
       "array([[-0.08179497,  0.94316166,  0.04688405],\n",
       "       [ 0.10133122,  0.23297974,  0.9096783 ]])"
      ]
     },
     "execution_count": 117,
     "metadata": {},
     "output_type": "execute_result"
    }
   ],
   "source": [
    "f_pred.cluster_centers_"
   ]
  },
  {
   "cell_type": "code",
   "execution_count": 118,
   "metadata": {},
   "outputs": [
    {
     "name": "stdout",
     "output_type": "stream",
     "text": [
      "0 : 67.334122\n",
      "1 : 32.665878\n"
     ]
    },
    {
     "data": {
      "image/png": "[encoded data removed]",
      "text/plain": [
       "<Figure size 432x288 with 1 Axes>"
      ]
     },
     "metadata": {
      "needs_background": "light"
     },
     "output_type": "display_data"
    }
   ],
   "source": [
    "# Plot weights\n",
    "counts = []\n",
    "for i in range(num_clus):\n",
    "    percent = labels.tolist().count(i) * 1.0 / sample_len * 100\n",
    "    counts.append(percent)\n",
    "    print \"%d : %f\" %(i, percent)\n",
    "\n",
    "\n",
    "x_ax = np.arange(num_clus)\n",
    "plt.bar(x_ax, counts, align='center', alpha=0.5)\n",
    "plt.xlabel('Faces')\n",
    "plt.ylabel('Weights')\n",
    "plt.title('K-means Clustering Result ')\n",
    "plt.savefig('kmeans_result.png')\n",
    "plt.show()"
   ]
  },
  {
   "cell_type": "code",
   "execution_count": 119,
   "metadata": {},
   "outputs": [
    {
     "data": {
      "text/plain": [
       "75.27982207392697"
      ]
     },
     "execution_count": 119,
     "metadata": {},
     "output_type": "execute_result"
    }
   ],
   "source": [
    "ang = np.arccos(np.dot(clus_centers[0],clus_centers[1]))\n",
    "np.degrees(ang)\n",
    "\n"
   ]
  },
  {
   "cell_type": "code",
   "execution_count": 120,
   "metadata": {},
   "outputs": [],
   "source": [
    "def select_point_from_group(group, pts):\n",
    "    \"\"\" Choose the points from index in groups\n",
    "        Input: group with index\n",
    "        Output: lists of points in the group\n",
    "    \"\"\"\n",
    "\n",
    "    p_in_group = []\n",
    "\n",
    "    for i in range(len(group)):\n",
    "        p_in_group.append(pts[group[i]])\n",
    "    \n",
    "    return p_in_group"
   ]
  },
  {
   "cell_type": "code",
   "execution_count": 121,
   "metadata": {},
   "outputs": [],
   "source": [
    "group_planes = []\n",
    "for i in range(num_clus):\n",
    "    group_t = select_point_from_group(norm_groups[i], p_3d)\n",
    "    group_planes.append(group_t)"
   ]
  },
  {
   "cell_type": "code",
   "execution_count": 122,
   "metadata": {},
   "outputs": [],
   "source": [
    "def fit_to_plane(pts):\n",
    "    \"\"\"Given points in a group, compute the plane which minimizes the distance from the points to the plane\n",
    "       Output the norm vector norm and constant factor d\n",
    "    \"\"\"\n",
    "    # Compute x_mean, y_mean, z_mean\n",
    "    \n",
    "    n = len(pts)\n",
    "    \n",
    "    x_total = 0\n",
    "    y_total = 0\n",
    "    z_total = 0\n",
    "\n",
    "    for i in range(n):\n",
    "        x_total += pts[i][0]\n",
    "        y_total += pts[i][1]\n",
    "        z_total += pts[i][2]\n",
    "\n",
    "    x_mean = x_total * 1.0 / n\n",
    "    y_mean = y_total * 1.0 / n\n",
    "    z_mean = z_total * 1.0 / n\n",
    "\n",
    "    # Compute the p[i] = [x[i]-x_mean,y[i]-y.mean,z[i]-z.mean]\n",
    "    p = []\n",
    "    for i in range(n):\n",
    "        p1 = pts[i][0] - x_mean\n",
    "        p2 = pts[i][1] - y_mean\n",
    "        p3 = pts[i][2] - z_mean\n",
    "        p.append([p1, p2, p3])\n",
    " \n",
    "    # Compute the matrix A\n",
    "    a1 = 0\n",
    "    a2 = 0\n",
    "    a3 = 0\n",
    "    a4 = 0\n",
    "    a5 = 0\n",
    "    a6 = 0\n",
    "    for i in range(n):\n",
    "        a1 += p[i][0] * p[i][0]\n",
    "        a2 += p[i][0] * p[i][1]\n",
    "        a3 += p[i][0] * p[i][2]\n",
    "        a4 += p[i][1] * p[i][1]\n",
    "        a5 += p[i][1] * p[i][2]\n",
    "        a6 += p[i][2] * p[i][2]\n",
    "\n",
    "    A = np.array([[a1, a2, a3], [a2, a4, a5], [a3, a5, a6]])\n",
    "\n",
    "    # Compute the smallest eigen value and accordingly eigen vector of A\n",
    "    w, v = np.linalg.eigh(A)\n",
    "\n",
    "    # The minimal eigenvalue is w[0]\n",
    "    eig = w[0]\n",
    "\n",
    "    # The norm is eigenvector v[:,0]\n",
    "    norm = v[:,0].tolist()\n",
    "    d = -norm[0] * x_mean - norm[1] * y_mean - norm[2] * z_mean\n",
    "\n",
    "    return norm, d"
   ]
  },
  {
   "cell_type": "code",
   "execution_count": 123,
   "metadata": {},
   "outputs": [],
   "source": [
    "def norm_align(norm, d, reference):\n",
    "    \n",
    "    \"\"\"Let the norm of plane along with the estimated normal\n",
    "    \"\"\"\n",
    "    \n",
    "    if(np.dot(norm, reference) < 0):\n",
    "        norm = [x * (-1.0) for x in norm]\n",
    "        d = d * (-1.0)\n",
    "    return norm, d"
   ]
  },
  {
   "cell_type": "code",
   "execution_count": 124,
   "metadata": {},
   "outputs": [],
   "source": [
    "n_planes = []\n",
    "d_planes = []\n",
    "for i in range(num_clus):\n",
    "    n_t, d_t = fit_to_plane(group_planes[i])\n",
    "    n_t, d_t = norm_align(n_t, d_t, clus_centers[i])\n",
    "    n_planes.append(n_t)\n",
    "    d_planes.append(d_t)"
   ]
  },
  {
   "cell_type": "code",
   "execution_count": 125,
   "metadata": {},
   "outputs": [
    {
     "data": {
      "text/plain": [
       "86.29519735116786"
      ]
     },
     "execution_count": 125,
     "metadata": {},
     "output_type": "execute_result"
    }
   ],
   "source": [
    "ang = np.arccos(np.dot(n_planes[1],n_planes[0]))\n",
    "np.degrees(ang)"
   ]
  },
  {
   "cell_type": "code",
   "execution_count": 126,
   "metadata": {},
   "outputs": [],
   "source": [
    "def proj_to_plane(norm, d, pts):\n",
    "    \"\"\" Project points on to a certain plane\n",
    "        Input: plane's norm (normalized), and a bunch of points\n",
    "        Output: All the projection of points on the plane\n",
    "\n",
    "    \"\"\"\n",
    "    a = norm[0]\n",
    "    b = norm[1]\n",
    "    c = norm[2]\n",
    "\n",
    "    p = []\n",
    "\n",
    "    for i in range(len(pts)):\n",
    "        x_p = pts[i][0]\n",
    "        y_p = pts[i][1]\n",
    "        z_p = pts[i][2]\n",
    "\n",
    "        if a != 0:\n",
    "            x_0 = (b * b + c * c) * x_p - a * b * y_p - a * c * z_p - a * d\n",
    "            y_0 = (b * 1.0 / a) * (x_0 - x_p) + y_p\n",
    "            z_0 = (c * 1.0 / a) * (x_0 - x_p) + z_p\n",
    "\n",
    "        elif b != 0:\n",
    "            x_0 = x_p \n",
    "            y_0 = c * c * y_p - b * (d + c)\n",
    "            z_0 = (c * 1.0 / b) *(y_0 - y_p) + z_p\n",
    "\n",
    "        else:\n",
    "            x_0 = x_p\n",
    "            y_0 = y_p\n",
    "            z_0 = - d * 1.0 / c\n",
    "\n",
    "        p.append([x_0, y_0, z_0])\n",
    "        \n",
    "    return p"
   ]
  },
  {
   "cell_type": "code",
   "execution_count": 127,
   "metadata": {},
   "outputs": [],
   "source": [
    "pts_planes = []\n",
    "for i in range(num_clus):\n",
    "    pts_t = proj_to_plane(n_planes[i], d_planes[i], group_planes[i])\n",
    "    pts_planes.append(pts_t)"
   ]
  },
  {
   "cell_type": "code",
   "execution_count": 128,
   "metadata": {},
   "outputs": [],
   "source": [
    "rgb_3d = [[89 / 255.0, 159 / 255.0, 229 / 255.0, 0.3] for i in range(len(pts_planes[0]))]\n",
    "l = len(pts_planes[0])\n",
    "scalars = np.arange(l)\n",
    "v1 = pptk.viewer(np.asarray(pts_planes[0]), scalars)\n",
    "v1.set(point_size=0.001)\n",
    "v1.attributes(rgb_3d)\n",
    "v1.set(bg_color = [1, 1, 1, 0.3])\n",
    "v1.set(floor_color = [1, 1, 1, 0.3])"
   ]
  },
  {
   "cell_type": "code",
   "execution_count": null,
   "metadata": {},
   "outputs": [],
   "source": [
    "v1.capture('v1_screenshot.png')"
   ]
  },
  {
   "cell_type": "code",
   "execution_count": 374,
   "metadata": {},
   "outputs": [],
   "source": [
    "rgb_3d = [[89 / 255.0, 159 / 255.0, 229 / 255.0, 0.3] for i in range(len(pts_planes[1]))]\n",
    "l = len(pts_planes[1])\n",
    "scalars = np.arange(l)\n",
    "v2 = pptk.viewer(np.asarray(pts_planes[1]), scalars)\n",
    "v2.set(point_size=0.001)\n",
    "v2.attributes(rgb_3d)\n",
    "v2.set(bg_color = [1, 1, 1, 0.3])\n",
    "v2.set(floor_color = [1, 1, 1, 0.3])"
   ]
  },
  {
   "cell_type": "code",
   "execution_count": null,
   "metadata": {},
   "outputs": [],
   "source": [
    "v2.capture('v2_screenshot.png')"
   ]
  },
  {
   "cell_type": "code",
   "execution_count": 375,
   "metadata": {},
   "outputs": [],
   "source": [
    "rgb_3d = [[89 / 255.0, 159 / 255.0, 229 / 255.0, 0.3] for i in range(len(pts_planes[2]))]\n",
    "l = len(pts_planes[2])\n",
    "scalars = np.arange(l)\n",
    "v3 = pptk.viewer(np.asarray(pts_planes[2]), scalars)\n",
    "v3.set(point_size=0.001)\n",
    "v3.attributes(rgb_3d)\n",
    "v3.set(bg_color = [1, 1, 1, 0.3])\n",
    "v3.set(floor_color = [1, 1, 1, 0.3])"
   ]
  },
  {
   "cell_type": "code",
   "execution_count": null,
   "metadata": {},
   "outputs": [],
   "source": [
    "v3.capture('v3_screenshot.png')"
   ]
  },
  {
   "cell_type": "code",
   "execution_count": 376,
   "metadata": {},
   "outputs": [],
   "source": [
    "l = len(pts_planes[0]) + len(pts_planes[1]) + len(pts_planes[2])\n",
    "rgb_3d = [[89 / 255.0, 159 / 255.0, 229 / 255.0, 0.3] for i in range(l)]\n",
    "scalars = np.arange(l)\n",
    "v4 = pptk.viewer(np.asarray(pts_planes[0] + pts_planes[1] + pts_planes[2]), scalars)\n",
    "v4.set(point_size=0.001)\n",
    "v4.attributes(rgb_3d)\n",
    "v4.set(bg_color = [1, 1, 1, 0.3])\n",
    "v4.set(floor_color = [1, 1, 1, 0.3])"
   ]
  },
  {
   "cell_type": "code",
   "execution_count": 83,
   "metadata": {},
   "outputs": [],
   "source": [
    "v4.capture('v4_screenshot.png')"
   ]
  },
  {
   "cell_type": "code",
   "execution_count": 129,
   "metadata": {},
   "outputs": [],
   "source": [
    "def build_coord(norm, d, pts):\n",
    "    \"\"\"Given the function of a plane (in global accordinate system) and a lot of points on the plane,\n",
    "       construct an accordinate system\n",
    "       Set the origin in the center of points.\n",
    "       Output the coordinates\n",
    "    \"\"\"\n",
    "    # Compute the origin as the mean point of the points, and this point has to be on the plane\n",
    "    \n",
    "    n = len(pts)\n",
    "    x_total = 0\n",
    "    y_total = 0\n",
    "    z_total = 0\n",
    "    \n",
    "    for i in range(n):\n",
    "        x_total += pts[i][0]\n",
    "        y_total += pts[i][1]\n",
    "        z_total += pts[i][2]\n",
    "\n",
    "    x_o = x_total * 1.0 / n\n",
    "    y_o = y_total * 1.0 / n\n",
    "    z_o = z_total * 1.0 / n\n",
    "    p_o = [x_o, y_o, z_o]\n",
    "    \n",
    "    # Choose p be the projection of a vector in the z-axis to the plane\n",
    "    # If the plane is not perpendicular to the z-axis\n",
    "    if ((norm[2] != 1) and (norm[2] != -1)): \n",
    "        # Choose a point\n",
    "        o_z = [x_o, y_o, z_o + 1]\n",
    "    \n",
    "        [[x_p, y_p, z_p]] = proj_to_plane(norm, d, [o_z])\n",
    "     \n",
    "        dist = np.linalg.norm([x_p - x_o, y_p - y_o, z_p - z_o])\n",
    "\n",
    "        x_c = (x_p - x_o) * 1.0 / dist \n",
    "        y_c = (y_p - y_o) * 1.0 / dist\n",
    "        z_c = (z_p - z_o) * 1.0 / dist\n",
    "        # Thus we have unit vector in x direction\n",
    "        e_y = [x_c, y_c, z_c]\n",
    "        #Compute the unit vector in y direction\n",
    "        e_x = np.cross(e_y, norm).tolist()\n",
    "    else:\n",
    "        e_x = [1, 0, 0]\n",
    "        e_y = [0, 1, 0]\n",
    "        \n",
    "    return [e_x, e_y, norm] , p_o"
   ]
  },
  {
   "cell_type": "code",
   "execution_count": 130,
   "metadata": {},
   "outputs": [],
   "source": [
    "coordinate_planes = []\n",
    "o_planes = []\n",
    "for i in range(num_clus):\n",
    "    coordinate_t, o_t = build_coord(n_planes[i], d_planes[i], pts_planes[i])\n",
    "    coordinate_planes.append(coordinate_t)\n",
    "    o_planes.append(o_t)"
   ]
  },
  {
   "cell_type": "code",
   "execution_count": 131,
   "metadata": {},
   "outputs": [
    {
     "data": {
      "text/plain": [
       "[[-0.11887741267013217, 0.9928711087160363, 0.008667308339034369],\n",
       " [0.11922558578333725, 0.07070963072115577, 0.9903461050652436]]"
      ]
     },
     "execution_count": 131,
     "metadata": {},
     "output_type": "execute_result"
    }
   ],
   "source": [
    "n_planes"
   ]
  },
  {
   "cell_type": "code",
   "execution_count": 132,
   "metadata": {},
   "outputs": [],
   "source": [
    "def compute_T_matrix(coordinates, p, reference=[[1,0,0],[0,1,0],[0,0,1]], origin=[0,0,0]):\n",
    "    \"\"\"Compute the tranform matrix from origin to the coordinates and its inverse\n",
    "    \"\"\"\n",
    "    e_b_x = coordinates[0]\n",
    "    e_b_y = coordinates[1]\n",
    "    e_b_z = coordinates[2]\n",
    "    \n",
    "    e_a_x = reference[0] \n",
    "    e_a_y = reference[1]\n",
    "    e_a_z = reference[2]\n",
    "    \n",
    "    # Compute the rotation matrix\n",
    "    x_b_a = [np.dot(e_b_x, e_a_x), np.dot(e_b_x, e_a_y), np.dot(e_b_x, e_a_z)]\n",
    "    y_b_a = [np.dot(e_b_y, e_a_x), np.dot(e_b_y, e_a_y), np.dot(e_b_y, e_a_z)]\n",
    "    z_b_a = [np.dot(e_b_z, e_a_x), np.dot(e_b_z, e_a_y), np.dot(e_b_z, e_a_z)]\n",
    "    \n",
    "    R_b_a = [[x_b_a[0], y_b_a[0], z_b_a[0]],[x_b_a[1], y_b_a[1], z_b_a[1]],x_b_a[2], y_b_a[2], z_b_a[2]]\n",
    "    \n",
    "    # Compute the displacement \n",
    "    displacement = [p[0]-origin[0], p[1]-origin[1], p[2]-origin[2]]\n",
    "    \n",
    "    # Make it into a transform matrix\n",
    "    T_b_a = [[x_b_a[0], y_b_a[0], z_b_a[0], displacement[0]],\n",
    "         [x_b_a[1], y_b_a[1], z_b_a[1], displacement[1]],\n",
    "         [x_b_a[2], y_b_a[2], z_b_a[2], displacement[2]],\n",
    "         [0, 0, 0, 1]]\n",
    "    \n",
    "    T_a_b = np.linalg.inv(T_b_a).tolist()\n",
    "    \n",
    "    return T_b_a, T_a_b"
   ]
  },
  {
   "cell_type": "code",
   "execution_count": 133,
   "metadata": {},
   "outputs": [],
   "source": [
    "T_matrix = []\n",
    "T_inv = []\n",
    "for i in range(num_clus):\n",
    "    T_t, T_t_inv = compute_T_matrix(coordinate_planes[i], o_planes[i])\n",
    "    T_matrix.append(T_t)\n",
    "    T_inv.append(T_t_inv)"
   ]
  },
  {
   "cell_type": "code",
   "execution_count": 134,
   "metadata": {
    "scrolled": true
   },
   "outputs": [
    {
     "data": {
      "text/plain": [
       "[[[-0.9929084041651405,\n",
       "   0.0010303858933306041,\n",
       "   -0.11887741267013217,\n",
       "   0.6554183411556858],\n",
       "  [-0.11888187809011967,\n",
       "   -0.008605843291318187,\n",
       "   0.9928711087160363,\n",
       "   -0.09290870450635404],\n",
       "  [-2.168404344971009e-19,\n",
       "   0.9999624381776328,\n",
       "   0.008667308339034369,\n",
       "   0.44883059939577646],\n",
       "  [0, 0, 0, 1]],\n",
       " [[-0.510108997118313,\n",
       "   -0.8518063575447001,\n",
       "   0.11922558578333725,\n",
       "   0.6757738570833912],\n",
       "  [0.8601097668663864,\n",
       "   -0.5051844584548587,\n",
       "   0.07070963072115577,\n",
       "   -0.1633214356173657],\n",
       "  [6.938893903907228e-18,\n",
       "   0.1386167096063877,\n",
       "   0.9903461050652436,\n",
       "   0.5175389004467319],\n",
       "  [0, 0, 0, 1]]]"
      ]
     },
     "execution_count": 134,
     "metadata": {},
     "output_type": "execute_result"
    }
   ],
   "source": [
    "T_matrix"
   ]
  },
  {
   "cell_type": "code",
   "execution_count": 135,
   "metadata": {},
   "outputs": [],
   "source": [
    "def trans_to_coordinates(T, pts):\n",
    "    \"\"\"Transfer all the points to a new fram using transformation matrix.\n",
    "    \"\"\"\n",
    "    p = []\n",
    "    for i in range(len(pts)):\n",
    "        \n",
    "        p_b = [pts[i][0], pts[i][1], pts[i][2], 1]\n",
    "        p_a = np.matmul(T, p_b).tolist()\n",
    "        p.append(p_a[0:3])\n",
    "\n",
    "    return p"
   ]
  },
  {
   "cell_type": "code",
   "execution_count": 136,
   "metadata": {},
   "outputs": [],
   "source": [
    "points_in_planes = []\n",
    "for i in range(num_clus):\n",
    "    points_in_t = trans_to_coordinates(T_inv[i], pts_planes[i])\n",
    "    points_in_planes.append(points_in_t)"
   ]
  },
  {
   "cell_type": "code",
   "execution_count": 244,
   "metadata": {},
   "outputs": [],
   "source": [
    "l = len(points_in_planes[0]) \n",
    "rgb_3d = [[89 / 255.0, 159 / 255.0, 229 / 255.0, 0.3] for i in range(l)]\n",
    "scalars = np.arange(l)\n",
    "v5 = pptk.viewer(np.asarray(points_in_planes[0]), scalars)\n",
    "v5.set(point_size=0.001)\n",
    "v5.attributes(rgb_3d)\n",
    "v5.set(bg_color = [1, 1, 1, 0.3])\n",
    "v5.set(floor_color = [1, 1, 1, 0.3])"
   ]
  },
  {
   "cell_type": "code",
   "execution_count": 181,
   "metadata": {},
   "outputs": [],
   "source": [
    "v5.capture('v5_screenshot.png')"
   ]
  },
  {
   "cell_type": "code",
   "execution_count": 132,
   "metadata": {},
   "outputs": [],
   "source": [
    "l = len(points_in_planes[1]) \n",
    "rgb_3d = [[89 / 255.0, 159 / 255.0, 229 / 255.0, 0.3] for i in range(l)]\n",
    "scalars = np.arange(l)\n",
    "v6 = pptk.viewer(np.asarray(points_in_planes[1]), scalars)\n",
    "v6.set(point_size=0.001)\n",
    "v6.attributes(rgb_3d)\n",
    "v6.set(bg_color = [1, 1, 1, 0.3])\n",
    "v6.set(floor_color = [1, 1, 1, 0.3])"
   ]
  },
  {
   "cell_type": "code",
   "execution_count": 133,
   "metadata": {},
   "outputs": [],
   "source": [
    "v6.capture('v6_screenshot.png')"
   ]
  },
  {
   "cell_type": "code",
   "execution_count": 134,
   "metadata": {},
   "outputs": [],
   "source": [
    "l = len(points_in_planes[2]) \n",
    "rgb_3d = [[89 / 255.0, 159 / 255.0, 229 / 255.0, 0.3] for i in range(l)]\n",
    "scalars = np.arange(l)\n",
    "v7 = pptk.viewer(np.asarray(points_in_planes[2]), scalars)\n",
    "v7.set(point_size=0.001)\n",
    "v7.attributes(rgb_3d)\n",
    "v7.set(bg_color = [1, 1, 1, 0.3])\n",
    "v7.set(floor_color = [1, 1, 1, 0.3])"
   ]
  },
  {
   "cell_type": "code",
   "execution_count": 135,
   "metadata": {},
   "outputs": [],
   "source": [
    "v7.capture('v7_screenshot.png')"
   ]
  },
  {
   "cell_type": "code",
   "execution_count": 137,
   "metadata": {},
   "outputs": [],
   "source": [
    "def trans_to_end(pts,dx=0.05, dz=0.03):\n",
    "    \"\"\"Transfer to the end-effector coordinate\n",
    "    \"\"\"\n",
    "    p = []\n",
    "    for i in range(len(pts)):\n",
    "        p.append([pts[i][0]+dx, pts[i][1],pts[i][2]+dz])\n",
    "    return p"
   ]
  },
  {
   "cell_type": "code",
   "execution_count": 165,
   "metadata": {},
   "outputs": [],
   "source": [
    "def segement_divide(pts,step=0.10, offset_x=0.01, offset_y=0.01):\n",
    "    \"\"\"Divide the points on the plane into a sequence of rectangles.\n",
    "    \n",
    "    \"\"\"\n",
    "\n",
    "    # Select the x and y of the points\n",
    "    n = len(pts)\n",
    "    \n",
    "    z = 0.0\n",
    "    \n",
    "    points_plane = []    \n",
    "    points_x = []\n",
    "    paint_point = []\n",
    "\n",
    "    for i in range(n):\n",
    "        points_plane.append([pts[i][0], pts[i][1]])\n",
    "        \n",
    "    # Sorted the list according to x \n",
    "    points_plane.sort(key=lambda x:x[0])\n",
    "\n",
    "    # Segment the points according to x \n",
    "    counter = 0   # Count the interval\n",
    "    x_min = points_plane[0][0]\n",
    "    x_max = points_plane[n-1][0]\n",
    "\n",
    "    # The whole interval that needs to be divided\n",
    "    upper = x_max + offset_x\n",
    "    lower = x_min - offset_x\n",
    "    lower_bound = lower\n",
    "    \n",
    "    # Set each segement's lower and upperbound\n",
    "    while (lower_bound + step <= upper):       \n",
    "        # The break condition will be lower_bound > upper - step\n",
    "        upper_bound = lower_bound + step\n",
    "\n",
    "        # Find the index between lower bound and upper bound\n",
    "        # First, find the index which x >= lower bound\n",
    "        index = 0\n",
    "        \n",
    "        while (points_plane[index][0] < lower_bound): \n",
    "            index = index + 1  # The index of the first point in the interval\n",
    "            \n",
    "        # If there is at least one point in the [lower_bound, upper_bound]\n",
    "        if (points_plane[index][0] <= upper_bound): \n",
    "\n",
    "            x_start = points_plane[index][0]\n",
    "            y_max = points_plane[index][1]\n",
    "            y_min = points_plane[index][1]\n",
    "        \n",
    "            while (points_plane[index][0] <= upper_bound): \n",
    "                # The break condition will be x[index] > upper bound or index = n - 1\n",
    "                # Compute the y max and y min in this interval\n",
    "                \n",
    "                if points_plane[index][1] > y_max:   \n",
    "                    y_max = points_plane[index][1]\n",
    "\n",
    "                if points_plane[index][1] < y_min:\n",
    "                    y_min = points_plane[index][1]\n",
    "                \n",
    "                if index < n - 1:\n",
    "                    index = index + 1\n",
    "                else:\n",
    "                    break\n",
    "            # The index of the last point in the interval, when index < n-1\n",
    "            \n",
    "            x_end = points_plane[index][0]\n",
    "\n",
    "            paint_point.append([lower_bound,y_max+offset_y,z]) \n",
    "            paint_point.append([lower_bound,y_min-offset_y,z])\n",
    "            points_x.append([x_start, x_end])\n",
    "            \n",
    "        counter = counter + 1\n",
    "\n",
    "        # Update interval\n",
    "        lower_bound = upper_bound - offset_x\n",
    "    \n",
    "    # Deal with the last interval\n",
    "    lower_bound_last = upper - step\n",
    "    index_last = 0\n",
    "    counter = counter + 1\n",
    "    while ((index_last < n) and (points_plane[index_last][0] < lower_bound_last)): \n",
    "        # The first point in the last interval\n",
    "        index_last = index_last + 1\n",
    "        \n",
    "    if (index_last < n): \n",
    "        # There is at least one point in the last interval\n",
    "        x_start_last = points_plane[index_last][0]\n",
    "        y_max_last = points_plane[index_last][1]\n",
    "        y_min_last = points_plane[index_last][1]\n",
    "\n",
    "        while ((index_last)<n) and (points_plane[index_last][0] <= upper):\n",
    "\n",
    "            if points_plane[index_last][1] > y_max_last:   \n",
    "                y_max_last = points_plane[index_last][1]\n",
    "            \n",
    "            if points_plane[index_last][1] < y_min_last:\n",
    "                y_min_last = points_plane[index_last][1]\n",
    "\n",
    "            index_last = index_last + 1\n",
    "            \n",
    "        index_last = index_last - 1 # The index of the last point in the interval\n",
    "        \n",
    "        paint_point.append([lower_bound_last, y_max_last+offset_y, z])\n",
    "        paint_point.append([lower_bound_last, y_min_last-offset_y, z])\n",
    "#     paint_point.append([upper, y_max_last+offset_y, z])\n",
    "#     paint_point.append([upper, y_min_last-offset_y, z])\n",
    "#     return trans_to_end(paint_point)\n",
    "        return paint_point\n",
    "#     return paint_point"
   ]
  },
  {
   "cell_type": "code",
   "execution_count": 166,
   "metadata": {},
   "outputs": [],
   "source": [
    "# Note: sometime segement_divide will have error\n",
    "paint_points_ps = []\n",
    "for i in range(num_clus):\n",
    "    paint_t = segement_divide(points_in_planes[i])\n",
    "    paint_points_ps.append(paint_t)"
   ]
  },
  {
   "cell_type": "code",
   "execution_count": 168,
   "metadata": {
    "scrolled": true
   },
   "outputs": [
    {
     "data": {
      "text/plain": [
       "[[[-0.09112608078087457, 0.07146603370660036, 0.0],\n",
       "  [-0.09112608078087457, -0.07876138732813152, 0.0],\n",
       "  [-0.006384026972230103, 0.07782610061129873, 0.0],\n",
       "  [-0.006384026972230103, -0.07884076160621005, 0.0]],\n",
       " [[-0.11596307039023095, 0.11210625475484558, 0.0],\n",
       "  [-0.11596307039023095, -0.0743758412822315, 0.0],\n",
       "  [-0.025963070390230943, 0.09258768285024259, 0.0],\n",
       "  [-0.025963070390230943, -0.09840875910208928, 0.0],\n",
       "  [0.00015134291008990497, 0.06251116478664846, 0.0],\n",
       "  [0.00015134291008990497, -0.09840875910208928, 0.0]]]"
      ]
     },
     "execution_count": 168,
     "metadata": {},
     "output_type": "execute_result"
    }
   ],
   "source": [
    "paint_points_ps"
   ]
  },
  {
   "cell_type": "code",
   "execution_count": 290,
   "metadata": {},
   "outputs": [],
   "source": [
    "p8 = points_in_planes[0] + paint_points_ps[0]\n",
    "l1 = len(points_in_planes[0]) \n",
    "l2 = len(paint_points_ps[0])\n",
    "rgb_3d1 = [[89 / 255.0, 159 / 255.0, 229 / 255.0, 0.3] for i in range(l1)]\n",
    "rgb_3d2 = [[242 / 255.0, 17 / 255.0, 17 / 255.0, 0.8] for i in range(l2)]\n",
    "rgb_3d = rgb_3d1 + rgb_3d2\n",
    "scalars = np.arange(l1 + l2)\n",
    "v8 = pptk.viewer(np.asarray(p8), scalars)\n",
    "v8.set(point_size=0.001)\n",
    "v8.attributes(rgb_3d)\n",
    "v8.set(bg_color = [1, 1, 1, 0.3])\n",
    "v8.set(floor_color = [1, 1, 1, 0.3])"
   ]
  },
  {
   "cell_type": "code",
   "execution_count": 141,
   "metadata": {},
   "outputs": [],
   "source": [
    "v8.capture('v8_screenshot.png')"
   ]
  },
  {
   "cell_type": "code",
   "execution_count": 291,
   "metadata": {},
   "outputs": [],
   "source": [
    "p9 = points_in_planes[1] + paint_points_ps[1]\n",
    "l1 = len(points_in_planes[1]) \n",
    "l2 = len(paint_points_ps[1])\n",
    "rgb_3d1 = [[89 / 255.0, 159 / 255.0, 229 / 255.0, 0.3] for i in range(l1)]\n",
    "rgb_3d2 = [[242 / 255.0, 17 / 255.0, 17 / 255.0, 0.8] for i in range(l2)]\n",
    "rgb_3d = rgb_3d1 + rgb_3d2\n",
    "scalars = np.arange(l1 + l2)\n",
    "v9 = pptk.viewer(np.asarray(p9), scalars)\n",
    "v9.set(point_size=0.001)\n",
    "v9.attributes(rgb_3d)\n",
    "v9.set(bg_color = [1, 1, 1, 0.3])\n",
    "v9.set(floor_color = [1, 1, 1, 0.3])"
   ]
  },
  {
   "cell_type": "code",
   "execution_count": 143,
   "metadata": {},
   "outputs": [],
   "source": [
    "v9.capture('v9_screenshot.png')"
   ]
  },
  {
   "cell_type": "code",
   "execution_count": 144,
   "metadata": {},
   "outputs": [],
   "source": [
    "p10 = points_in_planes[2] + paint_points_ps[2]\n",
    "l1 = len(points_in_planes[2]) \n",
    "l2 = len(paint_points_ps[2])\n",
    "rgb_3d1 = [[89 / 255.0, 159 / 255.0, 229 / 255.0, 0.3] for i in range(l1)]\n",
    "rgb_3d2 = [[242 / 255.0, 17 / 255.0, 17 / 255.0, 0.8] for i in range(l2)]\n",
    "rgb_3d = rgb_3d1 + rgb_3d2\n",
    "scalars = np.arange(l1 + l2)\n",
    "v10 = pptk.viewer(np.asarray(p10), scalars)\n",
    "v10.set(point_size=0.001)\n",
    "v10.attributes(rgb_3d)\n",
    "v10.set(bg_color = [1, 1, 1, 0.3])\n",
    "v10.set(floor_color = [1, 1, 1, 0.3])"
   ]
  },
  {
   "cell_type": "code",
   "execution_count": 145,
   "metadata": {},
   "outputs": [],
   "source": [
    "v10.capture('v10_screenshot.png')"
   ]
  },
  {
   "cell_type": "code",
   "execution_count": 169,
   "metadata": {},
   "outputs": [],
   "source": [
    "paint_strokes = []\n",
    "for i in range(num_clus):\n",
    "    stroke = trans_to_coordinates(T_matrix[i], paint_points_ps[i])\n",
    "    paint_strokes.append(stroke)"
   ]
  },
  {
   "cell_type": "code",
   "execution_count": 170,
   "metadata": {},
   "outputs": [
    {
     "data": {
      "text/plain": [
       "2"
      ]
     },
     "execution_count": 170,
     "metadata": {},
     "output_type": "execute_result"
    }
   ],
   "source": [
    "len(paint_strokes[0])/2"
   ]
  },
  {
   "cell_type": "code",
   "execution_count": 171,
   "metadata": {},
   "outputs": [
    {
     "data": {
      "text/plain": [
       "[[0.7459718301946312, -0.08269049036686277, 0.5202939487079135],\n",
       " [0.7458170379792055, -0.081397656723379, 0.3700721704888852],\n",
       " [0.6618372861050328, -0.09281951861595254, 0.5266537767169085],\n",
       " [0.6616758587802515, -0.09147126815076612, 0.36999279919224914]]"
      ]
     },
     "execution_count": 171,
     "metadata": {},
     "output_type": "execute_result"
    }
   ],
   "source": [
    "paint_strokes[0]"
   ]
  },
  {
   "cell_type": "code",
   "execution_count": 172,
   "metadata": {},
   "outputs": [],
   "source": [
    "def divide_strokes(stroke):\n",
    "    strokes = []\n",
    "    for i in range(len(stroke)/2):\n",
    "        stroke_1 = stroke[i * 2]\n",
    "        stroke_2 = stroke[i*2+1]\n",
    "        strokes.append([stroke_1, stroke_2])\n",
    "\n",
    "    return strokes"
   ]
  },
  {
   "cell_type": "code",
   "execution_count": 173,
   "metadata": {},
   "outputs": [
    {
     "data": {
      "text/plain": [
       "[[[0.7459718301946312, -0.08269049036686277, 0.5202939487079135],\n",
       "  [0.7458170379792055, -0.081397656723379, 0.3700721704888852]],\n",
       " [[0.6618372861050328, -0.09281951861595254, 0.5266537767169085],\n",
       "  [0.6616758587802515, -0.09147126815076612, 0.36999279919224914]]]"
      ]
     },
     "execution_count": 173,
     "metadata": {},
     "output_type": "execute_result"
    }
   ],
   "source": [
    "divide_strokes(paint_strokes[0])"
   ]
  },
  {
   "cell_type": "code",
   "execution_count": 286,
   "metadata": {},
   "outputs": [],
   "source": [
    "v11 = pptk.viewer(np.asarray(paint_strokes[0]))\n",
    "v11.set(point_size=0.001)"
   ]
  },
  {
   "cell_type": "code",
   "execution_count": 287,
   "metadata": {},
   "outputs": [],
   "source": [
    "v12 = pptk.viewer(np.asarray(paint_strokes[1]))\n",
    "v12.set(point_size=0.001)"
   ]
  },
  {
   "cell_type": "code",
   "execution_count": 153,
   "metadata": {},
   "outputs": [],
   "source": [
    "v13 = pptk.viewer(np.asarray(paint_strokes[2]))\n",
    "v13.set(point_size=0.001)"
   ]
  },
  {
   "cell_type": "code",
   "execution_count": 155,
   "metadata": {},
   "outputs": [],
   "source": [
    "all_pts_planes = pts_planes[0] + pts_planes[1] + pts_planes[2]\n",
    "all_paint_strokes = paint_strokes[0] + paint_strokes[1] + paint_strokes[2]\n",
    "l1 = len(all_pts_planes) \n",
    "l2 = len(paint_strokes[0])\n",
    "l3 = len(paint_strokes[1])\n",
    "l4 = len(paint_strokes[2])\n",
    "rgb_3d1 = [[89 / 255.0, 159 / 255.0, 229 / 255.0, 0.3] for i in range(l1)]\n",
    "rgb_3d2 = [[242 / 255.0, 17 / 255.0, 17 / 255.0, 0.8] for i in range(l2)]\n",
    "rgb_3d3 = [[240 / 255.0, 166 / 255.0, 16 / 255.0, 0.8] for i in range(l3)]\n",
    "rgb_3d4 = [[166 / 255.0, 16 / 255.0, 171 / 255.0, 0.8] for i in range(l4)]\n",
    "rgb_3d = rgb_3d1 + rgb_3d2 + rgb_3d3 + rgb_3d4\n",
    "scalars = np.arange(l1 + l2 + l3 + l4)\n",
    "\n",
    "v14 = pptk.viewer(np.asarray(all_pts_planes + all_paint_strokes), scalars)\n",
    "v14.set(point_size=0.001)\n",
    "v14.attributes(rgb_3d)\n",
    "v14.set(bg_color = [1, 1, 1, 0.3])\n",
    "v14.set(floor_color = [1, 1, 1, 0.3])"
   ]
  },
  {
   "cell_type": "code",
   "execution_count": 156,
   "metadata": {},
   "outputs": [],
   "source": [
    "v14.capture('paintingAll.png')"
   ]
  },
  {
   "cell_type": "code",
   "execution_count": 174,
   "metadata": {
    "scrolled": true
   },
   "outputs": [],
   "source": [
    "from scipy.spatial.transform import Rotation as R\n",
    "\n",
    "def coor_to_quater(coordinate):\n",
    "    \"\"\"Transfer dcm to quaternion\n",
    "    \"\"\"\n",
    "    rotation = np.transpose(coordinate)\n",
    "    \n",
    "    r = R.from_dcm(rotation)\n",
    "    \n",
    "    q = r.as_quat()\n",
    "#     m = r.as_dcm()\n",
    "    \n",
    "    return q.tolist()"
   ]
  },
  {
   "cell_type": "code",
   "execution_count": 175,
   "metadata": {},
   "outputs": [],
   "source": [
    "def norm_to_base(coordinate):\n",
    "    [f_x, f_y, f_z] = coordinate\n",
    "    e_x = [y * (-1.0) for y in f_y]\n",
    "    e_y = [x * (-1.0) for x in f_x]\n",
    "    e_z = [z * (-1.0) for z in f_z] \n",
    "    return [e_x, e_y, e_z]"
   ]
  },
  {
   "cell_type": "code",
   "execution_count": 176,
   "metadata": {},
   "outputs": [],
   "source": [
    "def move_up_by_normal(limb, Q, pos, N, d):\n",
    "    '''\n",
    "    This function move the roller to the position above the staring point of stroke\n",
    "    pos is the starting point of stroke\n",
    "    Q is the quaternion\n",
    "    N is the normal of cooresponding surface\n",
    "    d is the distance to move up\n",
    "    '''\n",
    "    x_d = d * N[0]\n",
    "    y_d = d * N[1]\n",
    "    z_d = d * N[2]\n",
    "    x_n = pos[0] + x_d\n",
    "    y_n = pos[1] + y_d\n",
    "    z_n = pos[2] + z_d\n",
    "    new_pose = [x_n, y_n, z_n] + Q # list contatenation\n",
    "    move_to_position(limb, new_pose)\n",
    "    \n",
    "def move_up_current(limb, N, d):\n",
    "    '''\n",
    "    This function move up the roller\n",
    "    N is the normal of cooresponding surface\n",
    "    d is the distance to move up\n",
    "    '''\n",
    "    x_d = d * N[0]\n",
    "    y_d = d * N[1]\n",
    "    z_d = d * N[2]\n",
    "    move_to_RelativP(limb, [x_d, y_d, z_d, 0, 0, 0, 0])"
   ]
  },
  {
   "cell_type": "code",
   "execution_count": 177,
   "metadata": {},
   "outputs": [
    {
     "data": {
      "text/plain": [
       "[[-0.0010303858933306041, 0.008605843291318187, -0.9999624381776328],\n",
       " [0.9929084041651405, 0.11888187809011967, 2.168404344971009e-19],\n",
       " [0.11887741267013217, -0.9928711087160363, -0.008667308339034369]]"
      ]
     },
     "execution_count": 177,
     "metadata": {},
     "output_type": "execute_result"
    }
   ],
   "source": [
    "norm_to_base(coordinate_planes[0])"
   ]
  },
  {
   "cell_type": "code",
   "execution_count": 178,
   "metadata": {
    "scrolled": true
   },
   "outputs": [
    {
     "data": {
      "text/plain": [
       "[[[-0.9929084041651405, -0.11888187809011967, -2.168404344971009e-19],\n",
       "  [0.0010303858933306041, -0.008605843291318187, 0.9999624381776328],\n",
       "  [-0.11887741267013217, 0.9928711087160363, 0.008667308339034369]],\n",
       " [[-0.510108997118313, 0.8601097668663864, 6.938893903907228e-18],\n",
       "  [-0.8518063575447001, -0.5051844584548587, 0.1386167096063877],\n",
       "  [0.11922558578333725, 0.07070963072115577, 0.9903461050652436]]]"
      ]
     },
     "execution_count": 178,
     "metadata": {},
     "output_type": "execute_result"
    }
   ],
   "source": [
    "coordinate_planes"
   ]
  },
  {
   "cell_type": "code",
   "execution_count": 179,
   "metadata": {},
   "outputs": [],
   "source": [
    "quaternion_end = []\n",
    "for i in range(num_clus):\n",
    "    quaternion_end.append(coor_to_quater(norm_to_base(coordinate_planes[i])))\n"
   ]
  },
  {
   "cell_type": "code",
   "execution_count": 180,
   "metadata": {},
   "outputs": [
    {
     "data": {
      "text/plain": [
       "[[0.47136902856349844,\n",
       "  0.5311731291025753,\n",
       "  -0.46730108053164626,\n",
       "  0.5265890674562458],\n",
       " [0.9620631774312343,\n",
       "  0.26383232395508205,\n",
       "  -0.06700243327007357,\n",
       "  0.018374476952219155]]"
      ]
     },
     "execution_count": 180,
     "metadata": {},
     "output_type": "execute_result"
    }
   ],
   "source": [
    "quaternion_end"
   ]
  },
  {
   "cell_type": "code",
   "execution_count": 181,
   "metadata": {},
   "outputs": [],
   "source": [
    "quaternion_plane = []\n",
    "for i in range(num_clus):\n",
    "    quaternion_plane.append(coor_to_quater(coordinate_planes[i]))"
   ]
  },
  {
   "cell_type": "code",
   "execution_count": 184,
   "metadata": {},
   "outputs": [
    {
     "data": {
      "text/plain": [
       "[[-0.04192293759728377,\n",
       "  0.7027864633967398,\n",
       "  0.7089043581110736,\n",
       "  -0.04228788503394347],\n",
       " [0.034385157667598414,\n",
       "  0.060370592174938065,\n",
       "  0.8668390220563468,\n",
       "  0.4937237713266579]]"
      ]
     },
     "execution_count": 184,
     "metadata": {},
     "output_type": "execute_result"
    }
   ],
   "source": [
    "quaternion_plane"
   ]
  },
  {
   "cell_type": "code",
   "execution_count": 183,
   "metadata": {},
   "outputs": [
    {
     "ename": "IndexError",
     "evalue": "list index out of range",
     "output_type": "error",
     "traceback": [
      "\u001b[0;31m---------------------------------------------------------------------------\u001b[0m",
      "\u001b[0;31mIndexError\u001b[0m                                Traceback (most recent call last)",
      "\u001b[0;32m<ipython-input-183-55c0d6415bf3>\u001b[0m in \u001b[0;36m<module>\u001b[0;34m()\u001b[0m\n\u001b[0;32m----> 1\u001b[0;31m \u001b[0mv\u001b[0m \u001b[0;34m=\u001b[0m \u001b[0mpptk\u001b[0m\u001b[0;34m.\u001b[0m\u001b[0mviewer\u001b[0m\u001b[0;34m(\u001b[0m\u001b[0mnp\u001b[0m\u001b[0;34m.\u001b[0m\u001b[0masarray\u001b[0m\u001b[0;34m(\u001b[0m\u001b[0mpts_planes\u001b[0m\u001b[0;34m[\u001b[0m\u001b[0;36m0\u001b[0m\u001b[0;34m]\u001b[0m \u001b[0;34m+\u001b[0m \u001b[0mpts_planes\u001b[0m\u001b[0;34m[\u001b[0m\u001b[0;36m1\u001b[0m\u001b[0;34m]\u001b[0m \u001b[0;34m+\u001b[0m \u001b[0mpts_planes\u001b[0m\u001b[0;34m[\u001b[0m\u001b[0;36m2\u001b[0m\u001b[0;34m]\u001b[0m\u001b[0;34m)\u001b[0m\u001b[0;34m)\u001b[0m\u001b[0;34m\u001b[0m\u001b[0m\n\u001b[0m\u001b[1;32m      2\u001b[0m \u001b[0mv\u001b[0m\u001b[0;34m.\u001b[0m\u001b[0mset\u001b[0m\u001b[0;34m(\u001b[0m\u001b[0mpoint_size\u001b[0m\u001b[0;34m=\u001b[0m\u001b[0;36m0.001\u001b[0m\u001b[0;34m)\u001b[0m\u001b[0;34m\u001b[0m\u001b[0m\n",
      "\u001b[0;31mIndexError\u001b[0m: list index out of range"
     ]
    }
   ],
   "source": [
    "v = pptk.viewer(np.asarray(pts_planes[0] + pts_planes[1] + pts_planes[2]))\n",
    "v.set(point_size=0.001)"
   ]
  },
  {
   "cell_type": "code",
   "execution_count": 167,
   "metadata": {},
   "outputs": [],
   "source": [
    "v8 = pptk.viewer(np.asarray(paint_points_ps[0]+points_in_planes[0]))\n",
    "v8.set(point_size=0.001)"
   ]
  },
  {
   "cell_type": "code",
   "execution_count": 168,
   "metadata": {},
   "outputs": [],
   "source": [
    "v10 = pptk.viewer(np.asarray(paint_points_ps[2]+points_in_planes[2]))\n",
    "v10.set(point_size=0.001)"
   ]
  },
  {
   "cell_type": "code",
   "execution_count": 169,
   "metadata": {},
   "outputs": [],
   "source": [
    "v14 = pptk.viewer(np.asarray(paint_strokes[0] + paint_strokes[1]+ paint_strokes[2]+ pts_planes[0] + pts_planes[1] + pts_planes[2]))\n",
    "v14.set(point_size=0.001)"
   ]
  },
  {
   "cell_type": "code",
   "execution_count": 185,
   "metadata": {},
   "outputs": [],
   "source": [
    "def obstacles_on_face(face_id,T_matrix,quaternion,paint_points,width=0.10,offset=0.01):\n",
    "    \"\"\"Given paint_points on a face, output the obstacles' names, poses in a list\n",
    "    \"\"\"\n",
    "    obstacles = []\n",
    "    for i in range(len(paint_points)/2):\n",
    "        stroke_1 = paint_points[i*2]\n",
    "        stroke_2 = paint_points[i*2+1]\n",
    "        x_o = (stroke_1[0] + stroke_2[0]) / 2.0\n",
    "        y_o = (stroke_1[1] + stroke_2[1]) / 2.0 + width / 2.0\n",
    "        z_o = offset / 2.0\n",
    "        center = trans_to_coordinates(T_matrix, [[x_o, y_o, z_o]])\n",
    "        obstacle_name = \"face %d obstacle %d\" % (face_id, i)\n",
    "        obstacles.append([obstacle_name, center[0][0], center[0][1], center[0][2], quaternion[0], quaternion[1], quaternion[2],quaternion[3],[width, stroke_1[1] - stroke_2[1],offset]])\n",
    "    # print obstacles\n",
    "    return obstacles"
   ]
  },
  {
   "cell_type": "code",
   "execution_count": 186,
   "metadata": {},
   "outputs": [],
   "source": [
    "num_planes = 2"
   ]
  },
  {
   "cell_type": "code",
   "execution_count": 187,
   "metadata": {},
   "outputs": [],
   "source": [
    "obstacles = []\n",
    "for i in range(num_planes):\n",
    "    obstacles.append(obstacles_on_face(i, T_matrix[i], quaternion_plane[i], paint_points_ps[i]))"
   ]
  },
  {
   "cell_type": "code",
   "execution_count": 188,
   "metadata": {},
   "outputs": [
    {
     "data": {
      "text/plain": [
       "[[[-0.09112608078087457, 0.07146603370660036, 0.0],\n",
       "  [-0.09112608078087457, -0.07876138732813152, 0.0],\n",
       "  [-0.006384026972230103, 0.07782610061129873, 0.0],\n",
       "  [-0.006384026972230103, -0.07884076160621005, 0.0]],\n",
       " [[-0.11596307039023095, 0.11210625475484558, 0.0],\n",
       "  [-0.11596307039023095, -0.0743758412822315, 0.0],\n",
       "  [-0.025963070390230943, 0.09258768285024259, 0.0],\n",
       "  [-0.025963070390230943, -0.09840875910208928, 0.0],\n",
       "  [0.00015134291008990497, 0.06251116478664846, 0.0],\n",
       "  [0.00015134291008990497, -0.09840875910208928, 0.0]]]"
      ]
     },
     "execution_count": 188,
     "metadata": {},
     "output_type": "execute_result"
    }
   ],
   "source": [
    "paint_points_ps"
   ]
  },
  {
   "cell_type": "code",
   "execution_count": 189,
   "metadata": {},
   "outputs": [
    {
     "data": {
      "text/plain": [
       "[[[-0.9929084041651405,\n",
       "   0.0010303858933306041,\n",
       "   -0.11887741267013217,\n",
       "   0.6554183411556858],\n",
       "  [-0.11888187809011967,\n",
       "   -0.008605843291318187,\n",
       "   0.9928711087160363,\n",
       "   -0.09290870450635404],\n",
       "  [-2.168404344971009e-19,\n",
       "   0.9999624381776328,\n",
       "   0.008667308339034369,\n",
       "   0.44883059939577646],\n",
       "  [0, 0, 0, 1]],\n",
       " [[-0.510108997118313,\n",
       "   -0.8518063575447001,\n",
       "   0.11922558578333725,\n",
       "   0.6757738570833912],\n",
       "  [0.8601097668663864,\n",
       "   -0.5051844584548587,\n",
       "   0.07070963072115577,\n",
       "   -0.1633214356173657],\n",
       "  [6.938893903907228e-18,\n",
       "   0.1386167096063877,\n",
       "   0.9903461050652436,\n",
       "   0.5175389004467319],\n",
       "  [0, 0, 0, 1]]]"
      ]
     },
     "execution_count": 189,
     "metadata": {},
     "output_type": "execute_result"
    }
   ],
   "source": [
    "T_matrix"
   ]
  },
  {
   "cell_type": "code",
   "execution_count": 190,
   "metadata": {},
   "outputs": [
    {
     "data": {
      "text/plain": [
       "[[[-0.9929084041651405, -0.11888187809011967, -2.168404344971009e-19],\n",
       "  [0.0010303858933306041, -0.008605843291318187, 0.9999624381776328],\n",
       "  [-0.11887741267013217, 0.9928711087160363, 0.008667308339034369]],\n",
       " [[-0.510108997118313, 0.8601097668663864, 6.938893903907228e-18],\n",
       "  [-0.8518063575447001, -0.5051844584548587, 0.1386167096063877],\n",
       "  [0.11922558578333725, 0.07070963072115577, 0.9903461050652436]]]"
      ]
     },
     "execution_count": 190,
     "metadata": {},
     "output_type": "execute_result"
    }
   ],
   "source": [
    "coordinate_planes"
   ]
  },
  {
   "cell_type": "code",
   "execution_count": 191,
   "metadata": {},
   "outputs": [
    {
     "data": {
      "text/plain": [
       "[[-0.11887741267013217, 0.9928711087160363, 0.008667308339034369],\n",
       " [0.11922558578333725, 0.07070963072115577, 0.9903461050652436]]"
      ]
     },
     "execution_count": 191,
     "metadata": {},
     "output_type": "execute_result"
    }
   ],
   "source": [
    "n_planes"
   ]
  },
  {
   "cell_type": "code",
   "execution_count": 162,
   "metadata": {},
   "outputs": [],
   "source": [
    "paint_points_end = []\n",
    "num_planes = 2\n",
    "for i in range(num_planes):\n",
    "    paint_points_end.append(trans_to_end(paint_points_ps[i]))\n",
    "    \n",
    "paint_points_world = []\n",
    "for i in range(num_planes):   \n",
    "    stroke = trans_to_coordinates(T_matrix[i], paint_points_end[i])\n",
    "    paint_points_world.append(stroke)\n",
    "      "
   ]
  },
  {
   "cell_type": "code",
   "execution_count": 163,
   "metadata": {},
   "outputs": [
    {
     "data": {
      "text/plain": [
       "[[[-0.04112608078087457, 0.061466033706600365, 0.03],\n",
       "  [-0.04112608078087457, -0.06876138732813153, 0.03],\n",
       "  [0.0436159730277699, 0.06782610061129873, 0.03],\n",
       "  [0.0436159730277699, -0.06884076160621005, 0.03]],\n",
       " [[-0.06596307039023094, 0.10210625475484558, 0.03],\n",
       "  [-0.06596307039023094, -0.0643758412822315, 0.03],\n",
       "  [0.02403692960976906, 0.0825876828502426, 0.03],\n",
       "  [0.02403692960976906, -0.08840875910208928, 0.03],\n",
       "  [0.05015134291008991, 0.05251116478664847, 0.03],\n",
       "  [0.05015134291008991, -0.08840875910208928, 0.03]]]"
      ]
     },
     "execution_count": 163,
     "metadata": {},
     "output_type": "execute_result"
    }
   ],
   "source": [
    "paint_points_end"
   ]
  },
  {
   "cell_type": "code",
   "execution_count": 164,
   "metadata": {},
   "outputs": [
    {
     "data": {
      "text/plain": [
       "[[[0.692749783747337, -0.05876239257697449, 0.5105543435763081],\n",
       "  [0.6926155992497779, -0.057641675799317074, 0.3803318141208325],\n",
       "  [0.6086152396577384, -0.06889142082606425, 0.5169141715853033],\n",
       "  [0.6084744200508237, -0.0677152872267042, 0.38025244282419657]],\n",
       " [[0.6260242233952404, -0.2695181208040441, 0.5614029166630374],\n",
       "  [0.7678347312169901, -0.18541395327512356, 0.5383257163020032],\n",
       "  [0.5967404572931264, -0.18224776260863024, 0.5586973164494057],\n",
       "  [0.7423963136656461, -0.09586301768323377, 0.5349943523115738],\n",
       "  [0.6090386294135443, -0.14459231118287424, 0.5545282084790132],\n",
       "  [0.7290751164866863, -0.07340175574764235, 0.5349943523115738]]]"
      ]
     },
     "execution_count": 164,
     "metadata": {},
     "output_type": "execute_result"
    }
   ],
   "source": [
    "paint_points_world"
   ]
  },
  {
   "cell_type": "code",
   "execution_count": null,
   "metadata": {},
   "outputs": [],
   "source": []
  },
  {
   "cell_type": "code",
   "execution_count": null,
   "metadata": {},
   "outputs": [],
   "source": []
  }
 ],
 "metadata": {
  "kernelspec": {
   "display_name": "Python 2",
   "language": "python",
   "name": "python2"
  },
  "language_info": {
   "codemirror_mode": {
    "name": "ipython",
    "version": 2
   },
   "file_extension": ".py",
   "mimetype": "text/x-python",
   "name": "python",
   "nbconvert_exporter": "python",
   "pygments_lexer": "ipython2",
   "version": "2.7.12"
  }
 },
 "nbformat": 4,
 "nbformat_minor": 2
}
