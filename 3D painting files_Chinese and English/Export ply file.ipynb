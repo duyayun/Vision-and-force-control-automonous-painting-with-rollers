{
 "cells": [
  {
   "cell_type": "code",
   "execution_count": 13,
   "metadata": {},
   "outputs": [],
   "source": [
    "import pyrealsense2 as rs\n",
    "import time\n",
    "from plyfile import PlyData, PlyElement\n",
    "import numpy as np\n",
    "from sklearn.cluster import KMeans\n",
    "import random\n",
    "import math"
   ]
  },
  {
   "cell_type": "code",
   "execution_count": 15,
   "metadata": {},
   "outputs": [
    {
     "name": "stdout",
     "output_type": "stream",
     "text": [
      "Saving to file...\n",
      "Done\n"
     ]
    }
   ],
   "source": [
    "pipe = rs.pipeline()\n",
    "config = rs.config()\n",
    "config.enable_stream(rs.stream.depth, 640, 480, rs.format.z16, 30)\n",
    "config.enable_stream(rs.stream.color, 640, 480, rs.format.bgr8, 30)\n",
    "align = rs.align(rs.stream.color)\n",
    "\n",
    "#Start streaming with default recommended configuration\n",
    "pipe.start(config);\n",
    "\n",
    "\n",
    "for x in range(5):\n",
    "  pipe.wait_for_frames()\n",
    "  time.sleep(2)\n",
    "\n",
    "# Declare pointcloud object, for calculating pointclouds and texture mappings\n",
    "pc = rs.pointcloud()\n",
    "# We want the points object to be persistent so we can display the last cloud when a frame drops\n",
    "points = rs.points()\n",
    "\n",
    "# Wait for the next set of frames from the camera\n",
    "frames = pipe.wait_for_frames()\n",
    "frames = align.process(frames)\n",
    "# Fetch color and depth frames\n",
    "depth = frames.get_depth_frame()\n",
    "color = frames.get_color_frame()\n",
    "\n",
    "# Tell pointcloud object to map to this color frame\n",
    "pc.map_to(color)\n",
    "\n",
    "# Generate the pointcloud and texture mappings\n",
    "points = pc.calculate(depth)\n",
    "\n",
    "print(\"Saving to file...\")\n",
    "points.export_to_ply(\"test0902_3.ply\", color)\n",
    "print(\"Done\")\n",
    "pipe.stop()"
   ]
  },
  {
   "cell_type": "code",
   "execution_count": 24,
   "metadata": {},
   "outputs": [
    {
     "name": "stdout",
     "output_type": "stream",
     "text": [
      "[1.2, 2.4, 3.6]\n"
     ]
    }
   ],
   "source": [
    "a = [1, 2, 3]\n",
    "b = [0.1, 0.2, 0.3]\n",
    "c = [0.2, 0.4, 0.6]\n",
    "print [sum(x) for x in zip(a, c)]"
   ]
  },
  {
   "cell_type": "code",
   "execution_count": null,
   "metadata": {},
   "outputs": [],
   "source": []
  }
 ],
 "metadata": {
  "kernelspec": {
   "display_name": "Python 2",
   "language": "python",
   "name": "python2"
  },
  "language_info": {
   "codemirror_mode": {
    "name": "ipython",
    "version": 2
   },
   "file_extension": ".py",
   "mimetype": "text/x-python",
   "name": "python",
   "nbconvert_exporter": "python",
   "pygments_lexer": "ipython2",
   "version": "2.7.12"
  }
 },
 "nbformat": 4,
 "nbformat_minor": 2
}
